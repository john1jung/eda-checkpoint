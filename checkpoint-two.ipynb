{
    "cells": [
        {
            "attachments": {},
            "cell_type": "markdown",
            "metadata": {
                "azdata_cell_guid": "151601c9-ca7a-412e-af80-c62a87e0837e"
            },
            "source": [
                "# Checkpoint Two: Exploratory Data Analysis\n",
                "\n",
                "Now that your chosen dataset is approved, it is time to start working on your analysis. Use this notebook to perform your EDA and make notes where directed to as you work.\n",
                "\n",
                "## Getting Started\n",
                "\n",
                "Since we have not provided your dataset for you, you will need to load the necessary files in this repository. Make sure to include a link back to the original dataset here as well.\n",
                "\n",
                "My dataset: https://www.kaggle.com/datasets/rajatsurana979/fast-food-sales-report\n",
                "\n",
                "Your first task in EDA is to import necessary libraries and create a dataframe(s). Make note in the form of code comments of what your thought process is as you work on this setup task."
            ]
        },
        {
            "cell_type": "code",
            "execution_count": 118,
            "metadata": {
                "azdata_cell_guid": "7b503e37-6df5-4433-acfb-678b1346db14"
            },
            "outputs": [
                {
                    "data": {
                        "text/html": [
                            "<div>\n",
                            "<style scoped>\n",
                            "    .dataframe tbody tr th:only-of-type {\n",
                            "        vertical-align: middle;\n",
                            "    }\n",
                            "\n",
                            "    .dataframe tbody tr th {\n",
                            "        vertical-align: top;\n",
                            "    }\n",
                            "\n",
                            "    .dataframe thead th {\n",
                            "        text-align: right;\n",
                            "    }\n",
                            "</style>\n",
                            "<table border=\"1\" class=\"dataframe\">\n",
                            "  <thead>\n",
                            "    <tr style=\"text-align: right;\">\n",
                            "      <th></th>\n",
                            "      <th>order_id</th>\n",
                            "      <th>date</th>\n",
                            "      <th>item_name</th>\n",
                            "      <th>item_type</th>\n",
                            "      <th>item_price</th>\n",
                            "      <th>quantity</th>\n",
                            "      <th>transaction_amount</th>\n",
                            "      <th>transaction_type</th>\n",
                            "      <th>received_by</th>\n",
                            "      <th>time_of_sale</th>\n",
                            "    </tr>\n",
                            "  </thead>\n",
                            "  <tbody>\n",
                            "    <tr>\n",
                            "      <th>0</th>\n",
                            "      <td>1</td>\n",
                            "      <td>07-03-2022</td>\n",
                            "      <td>Aalopuri</td>\n",
                            "      <td>Fastfood</td>\n",
                            "      <td>20</td>\n",
                            "      <td>13</td>\n",
                            "      <td>260</td>\n",
                            "      <td>NaN</td>\n",
                            "      <td>Mr.</td>\n",
                            "      <td>Night</td>\n",
                            "    </tr>\n",
                            "    <tr>\n",
                            "      <th>1</th>\n",
                            "      <td>2</td>\n",
                            "      <td>8/23/2022</td>\n",
                            "      <td>Vadapav</td>\n",
                            "      <td>Fastfood</td>\n",
                            "      <td>20</td>\n",
                            "      <td>15</td>\n",
                            "      <td>300</td>\n",
                            "      <td>Cash</td>\n",
                            "      <td>Mr.</td>\n",
                            "      <td>Afternoon</td>\n",
                            "    </tr>\n",
                            "    <tr>\n",
                            "      <th>2</th>\n",
                            "      <td>3</td>\n",
                            "      <td>11/20/2022</td>\n",
                            "      <td>Vadapav</td>\n",
                            "      <td>Fastfood</td>\n",
                            "      <td>20</td>\n",
                            "      <td>1</td>\n",
                            "      <td>20</td>\n",
                            "      <td>Cash</td>\n",
                            "      <td>Mr.</td>\n",
                            "      <td>Afternoon</td>\n",
                            "    </tr>\n",
                            "    <tr>\n",
                            "      <th>3</th>\n",
                            "      <td>4</td>\n",
                            "      <td>02-03-2023</td>\n",
                            "      <td>Sugarcane juice</td>\n",
                            "      <td>Beverages</td>\n",
                            "      <td>25</td>\n",
                            "      <td>6</td>\n",
                            "      <td>150</td>\n",
                            "      <td>Online</td>\n",
                            "      <td>Mr.</td>\n",
                            "      <td>Night</td>\n",
                            "    </tr>\n",
                            "    <tr>\n",
                            "      <th>4</th>\n",
                            "      <td>5</td>\n",
                            "      <td>10-02-2022</td>\n",
                            "      <td>Sugarcane juice</td>\n",
                            "      <td>Beverages</td>\n",
                            "      <td>25</td>\n",
                            "      <td>8</td>\n",
                            "      <td>200</td>\n",
                            "      <td>Online</td>\n",
                            "      <td>Mr.</td>\n",
                            "      <td>Evening</td>\n",
                            "    </tr>\n",
                            "    <tr>\n",
                            "      <th>...</th>\n",
                            "      <td>...</td>\n",
                            "      <td>...</td>\n",
                            "      <td>...</td>\n",
                            "      <td>...</td>\n",
                            "      <td>...</td>\n",
                            "      <td>...</td>\n",
                            "      <td>...</td>\n",
                            "      <td>...</td>\n",
                            "      <td>...</td>\n",
                            "      <td>...</td>\n",
                            "    </tr>\n",
                            "    <tr>\n",
                            "      <th>995</th>\n",
                            "      <td>996</td>\n",
                            "      <td>3/19/2023</td>\n",
                            "      <td>Frankie</td>\n",
                            "      <td>Fastfood</td>\n",
                            "      <td>50</td>\n",
                            "      <td>10</td>\n",
                            "      <td>500</td>\n",
                            "      <td>NaN</td>\n",
                            "      <td>Mrs.</td>\n",
                            "      <td>Evening</td>\n",
                            "    </tr>\n",
                            "    <tr>\n",
                            "      <th>996</th>\n",
                            "      <td>997</td>\n",
                            "      <td>9/20/2022</td>\n",
                            "      <td>Sandwich</td>\n",
                            "      <td>Fastfood</td>\n",
                            "      <td>60</td>\n",
                            "      <td>7</td>\n",
                            "      <td>420</td>\n",
                            "      <td>NaN</td>\n",
                            "      <td>Mr.</td>\n",
                            "      <td>Evening</td>\n",
                            "    </tr>\n",
                            "    <tr>\n",
                            "      <th>997</th>\n",
                            "      <td>998</td>\n",
                            "      <td>1/26/2023</td>\n",
                            "      <td>Sandwich</td>\n",
                            "      <td>Fastfood</td>\n",
                            "      <td>60</td>\n",
                            "      <td>13</td>\n",
                            "      <td>780</td>\n",
                            "      <td>NaN</td>\n",
                            "      <td>Mr.</td>\n",
                            "      <td>Evening</td>\n",
                            "    </tr>\n",
                            "    <tr>\n",
                            "      <th>998</th>\n",
                            "      <td>999</td>\n",
                            "      <td>8/27/2022</td>\n",
                            "      <td>Panipuri</td>\n",
                            "      <td>Fastfood</td>\n",
                            "      <td>20</td>\n",
                            "      <td>5</td>\n",
                            "      <td>100</td>\n",
                            "      <td>NaN</td>\n",
                            "      <td>Mrs.</td>\n",
                            "      <td>Afternoon</td>\n",
                            "    </tr>\n",
                            "    <tr>\n",
                            "      <th>999</th>\n",
                            "      <td>1000</td>\n",
                            "      <td>5/29/2022</td>\n",
                            "      <td>Aalopuri</td>\n",
                            "      <td>Fastfood</td>\n",
                            "      <td>20</td>\n",
                            "      <td>3</td>\n",
                            "      <td>60</td>\n",
                            "      <td>Online</td>\n",
                            "      <td>Mrs.</td>\n",
                            "      <td>Midnight</td>\n",
                            "    </tr>\n",
                            "  </tbody>\n",
                            "</table>\n",
                            "<p>1000 rows × 10 columns</p>\n",
                            "</div>"
                        ],
                        "text/plain": [
                            "     order_id        date        item_name  item_type  item_price  quantity  \\\n",
                            "0           1  07-03-2022         Aalopuri   Fastfood          20        13   \n",
                            "1           2   8/23/2022          Vadapav   Fastfood          20        15   \n",
                            "2           3  11/20/2022          Vadapav   Fastfood          20         1   \n",
                            "3           4  02-03-2023  Sugarcane juice  Beverages          25         6   \n",
                            "4           5  10-02-2022  Sugarcane juice  Beverages          25         8   \n",
                            "..        ...         ...              ...        ...         ...       ...   \n",
                            "995       996   3/19/2023          Frankie   Fastfood          50        10   \n",
                            "996       997   9/20/2022         Sandwich   Fastfood          60         7   \n",
                            "997       998   1/26/2023         Sandwich   Fastfood          60        13   \n",
                            "998       999   8/27/2022         Panipuri   Fastfood          20         5   \n",
                            "999      1000   5/29/2022         Aalopuri   Fastfood          20         3   \n",
                            "\n",
                            "     transaction_amount transaction_type received_by time_of_sale  \n",
                            "0                   260              NaN         Mr.        Night  \n",
                            "1                   300             Cash         Mr.    Afternoon  \n",
                            "2                    20             Cash         Mr.    Afternoon  \n",
                            "3                   150           Online         Mr.        Night  \n",
                            "4                   200           Online         Mr.      Evening  \n",
                            "..                  ...              ...         ...          ...  \n",
                            "995                 500              NaN        Mrs.      Evening  \n",
                            "996                 420              NaN         Mr.      Evening  \n",
                            "997                 780              NaN         Mr.      Evening  \n",
                            "998                 100              NaN        Mrs.    Afternoon  \n",
                            "999                  60           Online        Mrs.     Midnight  \n",
                            "\n",
                            "[1000 rows x 10 columns]"
                        ]
                    },
                    "execution_count": 118,
                    "metadata": {},
                    "output_type": "execute_result"
                }
            ],
            "source": [
                "#import needed libraires with aliases\n",
                "import pandas as pd\n",
                "import matplotlib.pyplot as plt\n",
                "import numpy as np\n",
                "\n",
                "\n",
                "#read the CSV and put it in a dataframe. I have the CSV file in the local directory. \n",
                "data = pd.read_csv(\"Balaji Fast Food Sales.csv\")\n",
                "df = pd.DataFrame(data)\n",
                "df\n"
            ]
        },
        {
            "attachments": {},
            "cell_type": "markdown",
            "metadata": {
                "azdata_cell_guid": "129ce836-524b-4ea8-b394-a959f9308d6a"
            },
            "source": [
                "## Get to Know the Numbers\n",
                "\n",
                "Now that you have everything setup, put any code that you use to get to know the dataframe and its rows and columns better in the cell below. You can use whatever techniques you like, except for visualizations. You will put those in a separate section.\n",
                "\n",
                "When working on your code, make sure to leave comments so that your mentors can understand your thought process."
            ]
        },
        {
            "cell_type": "code",
            "execution_count": 101,
            "metadata": {
                "azdata_cell_guid": "0ca2d318-f6e8-43ef-a33e-5304d24d928d",
                "tags": []
            },
            "outputs": [
                {
                    "name": "stdout",
                    "output_type": "stream",
                    "text": [
                        "<class 'pandas.core.frame.DataFrame'>\n",
                        "RangeIndex: 1000 entries, 0 to 999\n",
                        "Data columns (total 10 columns):\n",
                        " #   Column              Non-Null Count  Dtype \n",
                        "---  ------              --------------  ----- \n",
                        " 0   order_id            1000 non-null   int64 \n",
                        " 1   date                1000 non-null   object\n",
                        " 2   item_name           1000 non-null   object\n",
                        " 3   item_type           1000 non-null   object\n",
                        " 4   item_price          1000 non-null   int64 \n",
                        " 5   quantity            1000 non-null   int64 \n",
                        " 6   transaction_amount  1000 non-null   int64 \n",
                        " 7   transaction_type    893 non-null    object\n",
                        " 8   received_by         1000 non-null   object\n",
                        " 9   time_of_sale        1000 non-null   object\n",
                        "dtypes: int64(4), object(6)\n",
                        "memory usage: 78.3+ KB\n"
                    ]
                },
                {
                    "data": {
                        "text/html": [
                            "<div>\n",
                            "<style scoped>\n",
                            "    .dataframe tbody tr th:only-of-type {\n",
                            "        vertical-align: middle;\n",
                            "    }\n",
                            "\n",
                            "    .dataframe tbody tr th {\n",
                            "        vertical-align: top;\n",
                            "    }\n",
                            "\n",
                            "    .dataframe thead th {\n",
                            "        text-align: right;\n",
                            "    }\n",
                            "</style>\n",
                            "<table border=\"1\" class=\"dataframe\">\n",
                            "  <thead>\n",
                            "    <tr style=\"text-align: right;\">\n",
                            "      <th></th>\n",
                            "      <th>order_id</th>\n",
                            "      <th>date</th>\n",
                            "      <th>item_name</th>\n",
                            "      <th>item_type</th>\n",
                            "      <th>item_price</th>\n",
                            "      <th>quantity</th>\n",
                            "      <th>transaction_amount</th>\n",
                            "      <th>transaction_type</th>\n",
                            "      <th>received_by</th>\n",
                            "      <th>time_of_sale</th>\n",
                            "    </tr>\n",
                            "  </thead>\n",
                            "  <tbody>\n",
                            "    <tr>\n",
                            "      <th>0</th>\n",
                            "      <td>1</td>\n",
                            "      <td>07-03-2022</td>\n",
                            "      <td>Aalopuri</td>\n",
                            "      <td>Fastfood</td>\n",
                            "      <td>20</td>\n",
                            "      <td>13</td>\n",
                            "      <td>260</td>\n",
                            "      <td>NaN</td>\n",
                            "      <td>Mr.</td>\n",
                            "      <td>Night</td>\n",
                            "    </tr>\n",
                            "    <tr>\n",
                            "      <th>1</th>\n",
                            "      <td>2</td>\n",
                            "      <td>8/23/2022</td>\n",
                            "      <td>Vadapav</td>\n",
                            "      <td>Fastfood</td>\n",
                            "      <td>20</td>\n",
                            "      <td>15</td>\n",
                            "      <td>300</td>\n",
                            "      <td>Cash</td>\n",
                            "      <td>Mr.</td>\n",
                            "      <td>Afternoon</td>\n",
                            "    </tr>\n",
                            "    <tr>\n",
                            "      <th>2</th>\n",
                            "      <td>3</td>\n",
                            "      <td>11/20/2022</td>\n",
                            "      <td>Vadapav</td>\n",
                            "      <td>Fastfood</td>\n",
                            "      <td>20</td>\n",
                            "      <td>1</td>\n",
                            "      <td>20</td>\n",
                            "      <td>Cash</td>\n",
                            "      <td>Mr.</td>\n",
                            "      <td>Afternoon</td>\n",
                            "    </tr>\n",
                            "    <tr>\n",
                            "      <th>3</th>\n",
                            "      <td>4</td>\n",
                            "      <td>02-03-2023</td>\n",
                            "      <td>Sugarcane juice</td>\n",
                            "      <td>Beverages</td>\n",
                            "      <td>25</td>\n",
                            "      <td>6</td>\n",
                            "      <td>150</td>\n",
                            "      <td>Online</td>\n",
                            "      <td>Mr.</td>\n",
                            "      <td>Night</td>\n",
                            "    </tr>\n",
                            "    <tr>\n",
                            "      <th>4</th>\n",
                            "      <td>5</td>\n",
                            "      <td>10-02-2022</td>\n",
                            "      <td>Sugarcane juice</td>\n",
                            "      <td>Beverages</td>\n",
                            "      <td>25</td>\n",
                            "      <td>8</td>\n",
                            "      <td>200</td>\n",
                            "      <td>Online</td>\n",
                            "      <td>Mr.</td>\n",
                            "      <td>Evening</td>\n",
                            "    </tr>\n",
                            "  </tbody>\n",
                            "</table>\n",
                            "</div>"
                        ],
                        "text/plain": [
                            "   order_id        date        item_name  item_type  item_price  quantity  \\\n",
                            "0         1  07-03-2022         Aalopuri   Fastfood          20        13   \n",
                            "1         2   8/23/2022          Vadapav   Fastfood          20        15   \n",
                            "2         3  11/20/2022          Vadapav   Fastfood          20         1   \n",
                            "3         4  02-03-2023  Sugarcane juice  Beverages          25         6   \n",
                            "4         5  10-02-2022  Sugarcane juice  Beverages          25         8   \n",
                            "\n",
                            "   transaction_amount transaction_type received_by time_of_sale  \n",
                            "0                 260              NaN         Mr.        Night  \n",
                            "1                 300             Cash         Mr.    Afternoon  \n",
                            "2                  20             Cash         Mr.    Afternoon  \n",
                            "3                 150           Online         Mr.        Night  \n",
                            "4                 200           Online         Mr.      Evening  "
                        ]
                    },
                    "execution_count": 101,
                    "metadata": {},
                    "output_type": "execute_result"
                }
            ],
            "source": [
                "# Time to ground myself with some general data overview. \n",
                "# First I'll look at the shape just to see how big the dataset is. \n",
                "# I'll print the first 5 rows to get an idea of how the data looks and print the info to see data types and column names. \n",
                "#there are 10 columns and 1000 rows. Most rows are all non-null. There are 4 integar data types: order_id, item_price, quantity, and transcation amount. \n",
                "df.shape\n",
                "df.info()\n",
                "df.head()"
            ]
        },
        {
            "cell_type": "code",
            "execution_count": 102,
            "metadata": {},
            "outputs": [
                {
                    "data": {
                        "text/plain": [
                            "item_name\n",
                            "Aalopuri           134\n",
                            "Cold coffee        161\n",
                            "Frankie            139\n",
                            "Panipuri           150\n",
                            "Sandwich           129\n",
                            "Sugarcane juice    153\n",
                            "Vadapav            134\n",
                            "Name: item_name, dtype: int64"
                        ]
                    },
                    "metadata": {},
                    "output_type": "display_data"
                },
                {
                    "data": {
                        "text/plain": [
                            "time_of_sale\n",
                            "Afternoon    205\n",
                            "Evening      201\n",
                            "Midnight     199\n",
                            "Morning      190\n",
                            "Night        205\n",
                            "Name: time_of_sale, dtype: int64"
                        ]
                    },
                    "metadata": {},
                    "output_type": "display_data"
                },
                {
                    "data": {
                        "text/plain": [
                            "item_type\n",
                            "Beverages    314\n",
                            "Fastfood     686\n",
                            "Name: item_type, dtype: int64"
                        ]
                    },
                    "metadata": {},
                    "output_type": "display_data"
                }
            ],
            "source": [
                "#I want to know how many distinct values there are for certain columns. For example, what are the different food types and how many times were they each ordered. \n",
                "food_options_count = df.groupby('item_name')['item_name'].count()\n",
                "display(food_options_count)\n",
                "\n",
                "#what time of day is the most popular time to order?\n",
                "time_of_order_group = df.groupby('time_of_sale')['time_of_sale'].count()\n",
                "display(time_of_order_group)\n",
                "\n",
                "#what item type is most popular\n",
                "item_count = df.groupby('item_type')['item_type'].count()\n",
                "display(item_count)\n",
                "\n"
            ]
        },
        {
            "cell_type": "code",
            "execution_count": 103,
            "metadata": {},
            "outputs": [
                {
                    "data": {
                        "text/html": [
                            "<div>\n",
                            "<style scoped>\n",
                            "    .dataframe tbody tr th:only-of-type {\n",
                            "        vertical-align: middle;\n",
                            "    }\n",
                            "\n",
                            "    .dataframe tbody tr th {\n",
                            "        vertical-align: top;\n",
                            "    }\n",
                            "\n",
                            "    .dataframe thead th {\n",
                            "        text-align: right;\n",
                            "    }\n",
                            "</style>\n",
                            "<table border=\"1\" class=\"dataframe\">\n",
                            "  <thead>\n",
                            "    <tr style=\"text-align: right;\">\n",
                            "      <th></th>\n",
                            "      <th>order_id</th>\n",
                            "      <th>item_price</th>\n",
                            "      <th>quantity</th>\n",
                            "      <th>transaction_amount</th>\n",
                            "    </tr>\n",
                            "  </thead>\n",
                            "  <tbody>\n",
                            "    <tr>\n",
                            "      <th>count</th>\n",
                            "      <td>1000.000000</td>\n",
                            "      <td>1000.000000</td>\n",
                            "      <td>1000.000000</td>\n",
                            "      <td>1000.000000</td>\n",
                            "    </tr>\n",
                            "    <tr>\n",
                            "      <th>mean</th>\n",
                            "      <td>500.500000</td>\n",
                            "      <td>33.315000</td>\n",
                            "      <td>8.162000</td>\n",
                            "      <td>275.230000</td>\n",
                            "    </tr>\n",
                            "    <tr>\n",
                            "      <th>std</th>\n",
                            "      <td>288.819436</td>\n",
                            "      <td>14.921744</td>\n",
                            "      <td>4.413075</td>\n",
                            "      <td>204.402979</td>\n",
                            "    </tr>\n",
                            "    <tr>\n",
                            "      <th>min</th>\n",
                            "      <td>1.000000</td>\n",
                            "      <td>20.000000</td>\n",
                            "      <td>1.000000</td>\n",
                            "      <td>20.000000</td>\n",
                            "    </tr>\n",
                            "    <tr>\n",
                            "      <th>25%</th>\n",
                            "      <td>250.750000</td>\n",
                            "      <td>20.000000</td>\n",
                            "      <td>4.000000</td>\n",
                            "      <td>120.000000</td>\n",
                            "    </tr>\n",
                            "    <tr>\n",
                            "      <th>50%</th>\n",
                            "      <td>500.500000</td>\n",
                            "      <td>25.000000</td>\n",
                            "      <td>8.000000</td>\n",
                            "      <td>240.000000</td>\n",
                            "    </tr>\n",
                            "    <tr>\n",
                            "      <th>75%</th>\n",
                            "      <td>750.250000</td>\n",
                            "      <td>50.000000</td>\n",
                            "      <td>12.000000</td>\n",
                            "      <td>360.000000</td>\n",
                            "    </tr>\n",
                            "    <tr>\n",
                            "      <th>max</th>\n",
                            "      <td>1000.000000</td>\n",
                            "      <td>60.000000</td>\n",
                            "      <td>15.000000</td>\n",
                            "      <td>900.000000</td>\n",
                            "    </tr>\n",
                            "  </tbody>\n",
                            "</table>\n",
                            "</div>"
                        ],
                        "text/plain": [
                            "          order_id   item_price     quantity  transaction_amount\n",
                            "count  1000.000000  1000.000000  1000.000000         1000.000000\n",
                            "mean    500.500000    33.315000     8.162000          275.230000\n",
                            "std     288.819436    14.921744     4.413075          204.402979\n",
                            "min       1.000000    20.000000     1.000000           20.000000\n",
                            "25%     250.750000    20.000000     4.000000          120.000000\n",
                            "50%     500.500000    25.000000     8.000000          240.000000\n",
                            "75%     750.250000    50.000000    12.000000          360.000000\n",
                            "max    1000.000000    60.000000    15.000000          900.000000"
                        ]
                    },
                    "execution_count": 103,
                    "metadata": {},
                    "output_type": "execute_result"
                }
            ],
            "source": [
                "\n",
                "#I want to look closer at the 4 columns with numeric data. This is the bread and butter. I want to know the average transaction amount, the average item price, and the average quanity \n",
                "# per transaction.\n",
                "df.describe()"
            ]
        },
        {
            "cell_type": "code",
            "execution_count": 104,
            "metadata": {},
            "outputs": [
                {
                    "data": {
                        "text/html": [
                            "<div>\n",
                            "<style scoped>\n",
                            "    .dataframe tbody tr th:only-of-type {\n",
                            "        vertical-align: middle;\n",
                            "    }\n",
                            "\n",
                            "    .dataframe tbody tr th {\n",
                            "        vertical-align: top;\n",
                            "    }\n",
                            "\n",
                            "    .dataframe thead tr th {\n",
                            "        text-align: left;\n",
                            "    }\n",
                            "\n",
                            "    .dataframe thead tr:last-of-type th {\n",
                            "        text-align: right;\n",
                            "    }\n",
                            "</style>\n",
                            "<table border=\"1\" class=\"dataframe\">\n",
                            "  <thead>\n",
                            "    <tr>\n",
                            "      <th></th>\n",
                            "      <th colspan=\"2\" halign=\"left\">transaction_amount</th>\n",
                            "    </tr>\n",
                            "    <tr>\n",
                            "      <th></th>\n",
                            "      <th>sum</th>\n",
                            "      <th>mean</th>\n",
                            "    </tr>\n",
                            "    <tr>\n",
                            "      <th>time_of_sale</th>\n",
                            "      <th></th>\n",
                            "      <th></th>\n",
                            "    </tr>\n",
                            "  </thead>\n",
                            "  <tbody>\n",
                            "    <tr>\n",
                            "      <th>Afternoon</th>\n",
                            "      <td>56345</td>\n",
                            "      <td>274.853659</td>\n",
                            "    </tr>\n",
                            "    <tr>\n",
                            "      <th>Evening</th>\n",
                            "      <td>52355</td>\n",
                            "      <td>260.472637</td>\n",
                            "    </tr>\n",
                            "    <tr>\n",
                            "      <th>Midnight</th>\n",
                            "      <td>50725</td>\n",
                            "      <td>254.899497</td>\n",
                            "    </tr>\n",
                            "    <tr>\n",
                            "      <th>Morning</th>\n",
                            "      <td>53730</td>\n",
                            "      <td>282.789474</td>\n",
                            "    </tr>\n",
                            "    <tr>\n",
                            "      <th>Night</th>\n",
                            "      <td>62075</td>\n",
                            "      <td>302.804878</td>\n",
                            "    </tr>\n",
                            "  </tbody>\n",
                            "</table>\n",
                            "</div>"
                        ],
                        "text/plain": [
                            "             transaction_amount            \n",
                            "                            sum        mean\n",
                            "time_of_sale                               \n",
                            "Afternoon                 56345  274.853659\n",
                            "Evening                   52355  260.472637\n",
                            "Midnight                  50725  254.899497\n",
                            "Morning                   53730  282.789474\n",
                            "Night                     62075  302.804878"
                        ]
                    },
                    "execution_count": 104,
                    "metadata": {},
                    "output_type": "execute_result"
                }
            ],
            "source": [
                "# Now that I have a general idea of some sales data, I want to break it down further. \n",
                "# Group by metrics of interest to see how they affect sales. \n",
                "aggregate_dictionary = {\n",
                "    \"transaction_amount\": [\"sum\", \"mean\"] \n",
                "}\n",
                "\n",
                "#how does the time of sale affect the total sales. What does it tell about ordering behavior?\n",
                "time_of_order_group = df.groupby('time_of_sale').agg(aggregate_dictionary)\n",
                "time_of_order_group"
            ]
        },
        {
            "cell_type": "code",
            "execution_count": 116,
            "metadata": {},
            "outputs": [
                {
                    "data": {
                        "text/html": [
                            "<div>\n",
                            "<style scoped>\n",
                            "    .dataframe tbody tr th:only-of-type {\n",
                            "        vertical-align: middle;\n",
                            "    }\n",
                            "\n",
                            "    .dataframe tbody tr th {\n",
                            "        vertical-align: top;\n",
                            "    }\n",
                            "\n",
                            "    .dataframe thead tr th {\n",
                            "        text-align: left;\n",
                            "    }\n",
                            "\n",
                            "    .dataframe thead tr:last-of-type th {\n",
                            "        text-align: right;\n",
                            "    }\n",
                            "</style>\n",
                            "<table border=\"1\" class=\"dataframe\">\n",
                            "  <thead>\n",
                            "    <tr>\n",
                            "      <th></th>\n",
                            "      <th colspan=\"2\" halign=\"left\">transaction_amount</th>\n",
                            "    </tr>\n",
                            "    <tr>\n",
                            "      <th></th>\n",
                            "      <th>sum</th>\n",
                            "      <th>mean</th>\n",
                            "    </tr>\n",
                            "    <tr>\n",
                            "      <th>item_type</th>\n",
                            "      <th></th>\n",
                            "      <th></th>\n",
                            "    </tr>\n",
                            "  </thead>\n",
                            "  <tbody>\n",
                            "    <tr>\n",
                            "      <th>Beverages</th>\n",
                            "      <td>86390</td>\n",
                            "      <td>275.127389</td>\n",
                            "    </tr>\n",
                            "    <tr>\n",
                            "      <th>Fastfood</th>\n",
                            "      <td>188840</td>\n",
                            "      <td>275.276968</td>\n",
                            "    </tr>\n",
                            "  </tbody>\n",
                            "</table>\n",
                            "</div>"
                        ],
                        "text/plain": [
                            "          transaction_amount            \n",
                            "                         sum        mean\n",
                            "item_type                               \n",
                            "Beverages              86390  275.127389\n",
                            "Fastfood              188840  275.276968"
                        ]
                    },
                    "execution_count": 116,
                    "metadata": {},
                    "output_type": "execute_result"
                }
            ],
            "source": [
                "\n",
                "#I can use the aggregate dictionary I made above to look at other groups. Here I want to see how fastfood and beverages compare in sames. \n",
                "#They average out very similarly but there are more food orders.\n",
                "time_of_order_group = df.groupby('item_type').agg(aggregate_dictionary)\n",
                "time_of_order_group"
            ]
        },
        {
            "attachments": {},
            "cell_type": "markdown",
            "metadata": {
                "azdata_cell_guid": "d45060f3-97bc-484a-9ef4-66145bbe9427"
            },
            "source": [
                "## Visualize\n",
                "\n",
                "Create any visualizations for your EDA here. Make note in the form of code comments of what your thought process is for your visualizations."
            ]
        },
        {
            "cell_type": "code",
            "execution_count": 114,
            "metadata": {
                "azdata_cell_guid": "f4565b03-759a-47a8-b58f-01b32a0b4b67"
            },
            "outputs": [
                {
                    "data": {
                        "text/plain": [
                            "Text(0, 0.5, 'Total Sales')"
                        ]
                    },
                    "execution_count": 114,
                    "metadata": {},
                    "output_type": "execute_result"
                },
                {
                    "data": {
                        "image/png": "[encoded data removed]",
                        "text/plain": [
                            "<Figure size 640x480 with 1 Axes>"
                        ]
                    },
                    "metadata": {},
                    "output_type": "display_data"
                }
            ],
            "source": [
                "#I want to plot data and sales in a scatter plot to see if there is a trend in sales over time.\n",
                "plt.scatter(x=df['date'], y=df['transaction_amount'])\n",
                "plt.title(\"Total Sale Amount over Order Dates\")\n",
                "plt.xlabel(\"Date\")\n",
                "plt.ylabel(\"Total Sales\")\n",
                "\n",
                "# it looks very random with sales being distributed equally over time."
            ]
        },
        {
            "cell_type": "code",
            "execution_count": 106,
            "metadata": {
                "azdata_cell_guid": "cd64bab1-db4c-4295-820d-c6464b653a3e"
            },
            "outputs": [
                {
                    "data": {
                        "text/plain": [
                            "([0, 1, 2, 3, 4, 5, 6],\n",
                            " [Text(0, 0, 'Aalopuri'),\n",
                            "  Text(1, 0, 'Vadapav'),\n",
                            "  Text(2, 0, 'Sugarcane juice'),\n",
                            "  Text(3, 0, 'Panipuri'),\n",
                            "  Text(4, 0, 'Frankie'),\n",
                            "  Text(5, 0, 'Sandwich'),\n",
                            "  Text(6, 0, 'Cold coffee')])"
                        ]
                    },
                    "execution_count": 106,
                    "metadata": {},
                    "output_type": "execute_result"
                },
                {
                    "data": {
                        "image/png": "[encoded data removed]",
                        "text/plain": [
                            "<Figure size 640x480 with 1 Axes>"
                        ]
                    },
                    "metadata": {},
                    "output_type": "display_data"
                }
            ],
            "source": [
                "#Above you can see the sandwich is ordered the least number of times, But it's sales accounts for the most revenue. \n",
                "#what item generates the most money? A bar graph shows this simply.\n",
                "plt.bar(x=df['item_name'], height=df['transaction_amount'])\n",
                "plt.title(\"Total Sale per Menu Item (in dollars)\")\n",
                "plt.xlabel(\"Item\")\n",
                "plt.ylabel(\"Total Sales in $\")\n",
                "plt.xticks(rotation=45)"
            ]
        },
        {
            "cell_type": "code",
            "execution_count": 115,
            "metadata": {},
            "outputs": [
                {
                    "data": {
                        "text/plain": [
                            "<Axes: xlabel='item_name'>"
                        ]
                    },
                    "execution_count": 115,
                    "metadata": {},
                    "output_type": "execute_result"
                },
                {
                    "data": {
                        "image/png": "[encoded data removed]",
                        "text/plain": [
                            "<Figure size 640x480 with 1 Axes>"
                        ]
                    },
                    "metadata": {},
                    "output_type": "display_data"
                }
            ],
            "source": [
                "#here I chart out the counts per item like I did in the groupby above. Each item is ordered roughly the same amount. But the cost is very different. \n",
                "df['item_name'].value_counts().plot(kind='bar')\n"
            ]
        },
        {
            "cell_type": "code",
            "execution_count": 117,
            "metadata": {},
            "outputs": [
                {
                    "data": {
                        "text/plain": [
                            "<Axes: xlabel='item_type'>"
                        ]
                    },
                    "execution_count": 117,
                    "metadata": {},
                    "output_type": "execute_result"
                },
                {
                    "data": {
                        "image/png": "[encoded data removed]",
                        "text/plain": [
                            "<Figure size 640x480 with 1 Axes>"
                        ]
                    },
                    "metadata": {},
                    "output_type": "display_data"
                }
            ],
            "source": [
                "#The above chart shows each Item ordered approximately in the same quantity. I want to see how food and beverages stack up. Bar charts accomplish this simply. \n",
                "df['item_type'].value_counts().plot(kind='bar')\n"
            ]
        },
        {
            "cell_type": "markdown",
            "metadata": {
                "azdata_cell_guid": "d4931c0c-2c09-4ee1-95d4-73dd08c2f0a6"
            },
            "source": [
                "## Summarize Your Results\n",
                "\n",
                "With your EDA complete, answer the following questions.\n",
                "\n",
                "1. Was there anything surprising about your dataset? I am surprised by how uniform the data set it. It was easy to work with and had a high usability. \n",
                "\n",
                "2. Do you have any concerns about your dataset? My biggest concern is that this data is fake. Is it okay to use? Is synthetic data have any use other than educational?\n",
                "\n",
                "3. Is there anything you want to make note of for the next phase of your analysis, which is cleaning data? The data is already very leacn. I'd like to dig deeper into the Time of Order and The date of order to see how weekends and weekdays affect the time of order. I want to know when and what generate the most profit to better direct marketing efforts. "
            ]
        }
    ],
    "metadata": {
        "kernelspec": {
            "display_name": "Python 3",
            "language": "python",
            "name": "python3"
        },
        "language_info": {
            "codemirror_mode": {
                "name": "ipython",
                "version": 3
            },
            "file_extension": ".py",
            "mimetype": "text/x-python",
            "name": "python",
            "nbconvert_exporter": "python",
            "pygments_lexer": "ipython3",
            "version": "3.11.9"
        }
    },
    "nbformat": 4,
    "nbformat_minor": 2
}
